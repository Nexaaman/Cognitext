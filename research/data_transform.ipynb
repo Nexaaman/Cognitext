{
 "cells": [
  {
   "cell_type": "code",
   "execution_count": 1,
   "metadata": {},
   "outputs": [
    {
     "name": "stdout",
     "output_type": "stream",
     "text": [
      "version:  2.4.1\n",
      "version:  0.7.0\n"
     ]
    }
   ],
   "source": [
    "from importlib.metadata import version\n",
    "print(\"version: \", version(\"torch\"))\n",
    "print(\"version: \", version(\"tiktoken\"))"
   ]
  },
  {
   "cell_type": "code",
   "execution_count": 2,
   "metadata": {},
   "outputs": [],
   "source": [
    "import os"
   ]
  },
  {
   "cell_type": "code",
   "execution_count": 3,
   "metadata": {},
   "outputs": [],
   "source": [
    "os.chdir(\"../\")"
   ]
  },
  {
   "cell_type": "code",
   "execution_count": 4,
   "metadata": {},
   "outputs": [
    {
     "data": {
      "text/plain": [
       "'/home/aman/Desktop/Cognitext'"
      ]
     },
     "execution_count": 4,
     "metadata": {},
     "output_type": "execute_result"
    }
   ],
   "source": [
    "%pwd"
   ]
  },
  {
   "cell_type": "code",
   "execution_count": 6,
   "metadata": {},
   "outputs": [],
   "source": [
    "from dataclasses import dataclass\n",
    "from pathlib import Path"
   ]
  },
  {
   "cell_type": "code",
   "execution_count": 22,
   "metadata": {},
   "outputs": [],
   "source": [
    "@dataclass(frozen=True)\n",
    "class DataTransformationConfig:\n",
    "    root_dir: Path\n",
    "    data_path: Path\n",
    "    tokenizer: str\n",
    "    max_length: int\n",
    "    stride: int \n",
    "    save_dir: Path"
   ]
  },
  {
   "cell_type": "code",
   "execution_count": 8,
   "metadata": {},
   "outputs": [],
   "source": [
    "from Cognitext.constants import *\n",
    "from Cognitext.utils.common import read_yaml, create_directories"
   ]
  },
  {
   "cell_type": "code",
   "execution_count": 23,
   "metadata": {},
   "outputs": [],
   "source": [
    "class ConfigurationManager:\n",
    "    def __init__(self, config = CONFIG_FILE_PATH,params = PARAMS_FILE_PATH):\n",
    "        self.config =  read_yaml(config)\n",
    "        self.params = read_yaml(params)\n",
    "\n",
    "        create_directories([self.config.artifacts_root])\n",
    "\n",
    "    def get_transformation_config(self) -> DataTransformationConfig:\n",
    "        config = self.config.data_transformation\n",
    "        params = self.params.DataLoaderParams\n",
    "\n",
    "        get_transformation_connfig = DataTransformationConfig(\n",
    "            root_dir=config.root_dir,\n",
    "            data_path= config.data_path,\n",
    "            tokenizer= config.tokenizer,\n",
    "            max_length= params.max_length,\n",
    "            stride= params.stride,\n",
    "            save_dir = config.save_dir\n",
    "        )\n",
    "        return get_transformation_connfig"
   ]
  },
  {
   "cell_type": "code",
   "execution_count": 10,
   "metadata": {},
   "outputs": [
    {
     "name": "stdout",
     "output_type": "stream",
     "text": [
      "[2024-09-19 16:12:12,310: INFO: utils: NumExpr defaulting to 4 threads.]\n"
     ]
    },
    {
     "name": "stderr",
     "output_type": "stream",
     "text": [
      "/home/aman/Desktop/Cognitext/cogni/lib/python3.10/site-packages/tqdm/auto.py:21: TqdmWarning: IProgress not found. Please update jupyter and ipywidgets. See https://ipywidgets.readthedocs.io/en/stable/user_install.html\n",
      "  from .autonotebook import tqdm as notebook_tqdm\n"
     ]
    },
    {
     "name": "stdout",
     "output_type": "stream",
     "text": [
      "[2024-09-19 16:12:14,743: INFO: config: PyTorch version 2.4.1 available.]\n",
      "[2024-09-19 16:12:14,749: INFO: config: TensorFlow version 2.17.0 available.]\n"
     ]
    }
   ],
   "source": [
    "\n",
    "import tiktoken\n",
    "from datasets import load_from_disk\n",
    "import re"
   ]
  },
  {
   "cell_type": "code",
   "execution_count": 11,
   "metadata": {},
   "outputs": [],
   "source": [
    "import torch"
   ]
  },
  {
   "cell_type": "code",
   "execution_count": 12,
   "metadata": {},
   "outputs": [],
   "source": [
    "from torch.utils.data import Dataset, DataLoader"
   ]
  },
  {
   "cell_type": "code",
   "execution_count": 13,
   "metadata": {},
   "outputs": [],
   "source": [
    "import json\n",
    "import csv"
   ]
  },
  {
   "cell_type": "code",
   "execution_count": 29,
   "metadata": {},
   "outputs": [],
   "source": [
    "class DataTransformation(Dataset):\n",
    "    def __init__(self, config = DataTransformationConfig):\n",
    "        self.config = config\n",
    "        create_directories([self.config.root_dir])\n",
    "\n",
    "        Data = load_from_disk(self.config.data_path)\n",
    "        Data = Data[\"text\"]\n",
    "        Data = \" \".join(Data)\n",
    "\n",
    "        self.input_ids = []\n",
    "        self.target_ids = []\n",
    "\n",
    "        self.tokenizer = tiktoken.get_encoding(self.config.tokenizer)\n",
    "        token_ids = self.tokenizer.encode(Data , allowed_special={\"|endoftext|\"})\n",
    "\n",
    "        for i in range(0, len(token_ids) - self.config.max_length, self.config.stride):\n",
    "            input_chunk = token_ids[i: i + self.config.max_length]\n",
    "            target_chunk = token_ids[i+1: i + self.config.max_length + 1]\n",
    "\n",
    "            self.input_ids.append(torch.tensor(input_chunk))\n",
    "            self.target_ids.append(torch.tensor(target_chunk))\n",
    "    def _len_(self):\n",
    "        return len(self.input_ids)\n",
    "    \n",
    "    def __getitem__(self , idx):\n",
    "        return self.input_ids[idx] , self.target_ids[idx]\n",
    "    \n",
    "    def save(self, file_type = \"json\"):\n",
    "        file_path = self.config.save_dir\n",
    "        data_to_save = [\n",
    "            {\n",
    "                \"input_ids\": input_tensor.tolist(),\n",
    "                \"target_ids\": target_tensor.tolist()\n",
    "            }\n",
    "            for input_tensor, target_tensor in zip(self.input_ids, self.target_ids)\n",
    "        ]\n",
    "\n",
    "        if file_type == \"json\":\n",
    "            with open(file_path, \"w\") as json_file:\n",
    "                json.dump(data_to_save, json_file, indent=4)\n",
    "            print(f\"Data successfully saved to {file_path} as JSON.\")\n",
    "        \n",
    "        elif file_type == \"csv\":\n",
    "            with open(file_path, \"w\", newline=\"\") as csv_file:\n",
    "                writer = csv.DictWriter(csv_file, fieldnames=[\"input_ids\", \"target_ids\"])\n",
    "                writer.writeheader()\n",
    "                for row in data_to_save:\n",
    "                    writer.writerow(row)\n",
    "            print(f\"Data successfully saved to {file_path} as CSV.\")\n",
    "        \n",
    "        else:\n",
    "            raise ValueError(\"Unsupported file type. Please choose either 'json' or 'csv'.\")\n"
   ]
  },
  {
   "cell_type": "code",
   "execution_count": 30,
   "metadata": {},
   "outputs": [
    {
     "name": "stdout",
     "output_type": "stream",
     "text": [
      "[2024-09-19 17:55:02,030: INFO: common: yaml file: config/config.yaml loaded successfully]\n",
      "[2024-09-19 17:55:02,049: INFO: common: yaml file: params.yaml loaded successfully]\n",
      "[2024-09-19 17:55:02,057: INFO: common: created directory at: artifacts]\n",
      "[2024-09-19 17:55:02,064: INFO: common: created directory at: artifacts/data_transformation]\n"
     ]
    },
    {
     "name": "stdout",
     "output_type": "stream",
     "text": [
      "Data successfully saved to artifacts/data_transformation/Data.json as JSON.\n"
     ]
    }
   ],
   "source": [
    "try:\n",
    "    config = ConfigurationManager()\n",
    "    get_transformation_config = config.get_transformation_config()\n",
    "    transformation = DataTransformation(config = get_transformation_config)\n",
    "    transformation._len_()\n",
    "    transformation.save()\n",
    "except Exception as e:\n",
    "    raise e"
   ]
  }
 ],
 "metadata": {
  "kernelspec": {
   "display_name": "cogni",
   "language": "python",
   "name": "python3"
  },
  "language_info": {
   "codemirror_mode": {
    "name": "ipython",
    "version": 3
   },
   "file_extension": ".py",
   "mimetype": "text/x-python",
   "name": "python",
   "nbconvert_exporter": "python",
   "pygments_lexer": "ipython3",
   "version": "3.10.12"
  }
 },
 "nbformat": 4,
 "nbformat_minor": 2
}
